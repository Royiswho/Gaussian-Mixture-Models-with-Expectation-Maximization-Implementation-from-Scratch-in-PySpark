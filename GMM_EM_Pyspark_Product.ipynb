{
 "cells": [
  {
   "cell_type": "markdown",
   "metadata": {},
   "source": [
    "### MET CS 777 Big Data Analytics Final Project\n",
    "### Author: Yi Rong (yirong@bu.edu)\n",
    "### Date: 05/02/2021\n",
    "### Description: \n",
    "* GMM with EM implemented from scratch\n",
    "* GMM with EM implemented from library\n",
    "* K-means implemented from library"
   ]
  },
  {
   "cell_type": "code",
   "execution_count": null,
   "metadata": {},
   "outputs": [],
   "source": [
    "from __future__ import print_function\n",
    "import sys\n",
    "\n",
    "from operator import add\n",
    "# from string import lowercase\n",
    "from re import sub, search\n",
    "import numpy as np\n",
    "from numpy.random.mtrand import dirichlet, multinomial\n",
    "from string import punctuation\n",
    "import random\n",
    "import time\n",
    "from scipy.stats import norm\n",
    "import pandas as pd\n",
    "from sklearn.datasets import make_blobs\n",
    "from matplotlib import pyplot\n",
    "from pandas import DataFrame\n",
    "import matplotlib.cm as cm\n",
    "from random import sample\n",
    "\n",
    "from pyspark.sql import functions as f, udf\n",
    "from pyspark import SparkContext\n",
    "from pyspark import SparkConf\n",
    "from pyspark.context import SparkContext\n",
    "from pyspark.sql import SparkSession, SQLContext\n",
    "from pyspark.mllib.stat import Statistics\n",
    "from numpy.linalg import multi_dot\n",
    "from scipy.stats import multivariate_normal"
   ]
  },
  {
   "cell_type": "code",
   "execution_count": 2,
   "metadata": {},
   "outputs": [],
   "source": [
    "sc = SparkContext(appName=\"GMM_EM\")"
   ]
  },
  {
   "cell_type": "code",
   "execution_count": 3,
   "metadata": {},
   "outputs": [],
   "source": [
    "n_feature = 2 # the number of features\n",
    "n_components = 3 # the number of clusters\n",
    "max_iter = 100 # the number of EM iterations"
   ]
  },
  {
   "cell_type": "code",
   "execution_count": 236,
   "metadata": {},
   "outputs": [],
   "source": [
    "# generate isotropic Gaussian blobs (data from mixture Gaussian distributions)\n",
    "X, y = make_blobs(n_samples=300, # the number of total samples\n",
    "                  centers=n_components, # the number of clusters\n",
    "                  n_features=n_feature, # the number of features\n",
    "                  cluster_std = [0.8, 1.5, 1],\n",
    "                  random_state=2) # 2"
   ]
  },
  {
   "cell_type": "code",
   "execution_count": 238,
   "metadata": {},
   "outputs": [
    {
     "data": {
      "image/png": "[encoded data removed]",
      "text/plain": [
       "<Figure size 432x288 with 1 Axes>"
      ]
     },
     "metadata": {
      "needs_background": "light"
     },
     "output_type": "display_data"
    }
   ],
   "source": [
    "# scatter plot, data points annotated by different colors\n",
    "df = DataFrame(dict(x=X[:,0], y=X[:,1], label=y))\n",
    "cluster_name = set(y)\n",
    "colors = dict(zip(cluster_name, cm.rainbow(np.linspace(0,1,len(cluster_name)))))\n",
    "fig, ax = pyplot.subplots()\n",
    "grouped = df.groupby('label')\n",
    "for key, group in grouped:\n",
    "    group.plot(ax=ax, kind='scatter', x='x', y='y', label=key, color=colors[key].reshape(1,-1))\n",
    "pyplot.title('Original Gaussian Distributed Data from {} Centers'.format(n_components))\n",
    "pyplot.show()"
   ]
  },
  {
   "cell_type": "code",
   "execution_count": 239,
   "metadata": {},
   "outputs": [],
   "source": [
    "# read data as rdd\n",
    "data_raw = sc.parallelize(X)\n",
    "\n",
    "n_rows = data_raw.count() # the total number of samples"
   ]
  },
  {
   "cell_type": "markdown",
   "metadata": {},
   "source": [
    "### 1.Assume $k$ components over $n$ data points\n",
    "\n",
    "### Randomly assign cluster to each row of data\n",
    "\n",
    "### pi: $\\pi_{j} = \\frac{|c_{i}=j|}{n}$\n",
    "\n",
    "### mean_vector: $\\mu_{j} =  \\frac{\\sum (x_{i}|c_{i}=j)}{|c_{i}=j|}$\n",
    "\n",
    "###  covariance_matrixes: $\\Sigma_{j} = \\frac{\\sum{((x_i-\\mu_{j})^{T} \\cdot (x_i-\\mu_{j})|c_{i}=j)} }{|c_{i}=j|-1}$"
   ]
  },
  {
   "cell_type": "code",
   "execution_count": 254,
   "metadata": {},
   "outputs": [
    {
     "data": {
      "text/plain": [
       "PythonRDD[3294] at RDD at PythonRDD.scala:53"
      ]
     },
     "execution_count": 254,
     "metadata": {},
     "output_type": "execute_result"
    }
   ],
   "source": [
    "# assign a cluster to each row, make sure each cluster has data\n",
    "data_comp = data_raw.zipWithIndex().map(lambda x: (np.array(x[0]), x[1] % n_components))\n",
    "data_comp.cache()"
   ]
  },
  {
   "cell_type": "code",
   "execution_count": 255,
   "metadata": {},
   "outputs": [],
   "source": [
    "# Initialize pi with equal proportion\n",
    "pi = [1/n_components for k in range(n_components)]"
   ]
  },
  {
   "cell_type": "code",
   "execution_count": 256,
   "metadata": {},
   "outputs": [],
   "source": [
    "# Initial the mean_vector and covariance_matrixes matrix based on the formulas\n",
    "mean_vector = []\n",
    "covariance_matrixes = []\n",
    "for  j in range(n_components):\n",
    "    comp_j = data_comp.filter(lambda p: p[1] == j).map(lambda p: p[0])\n",
    "    n_count = comp_j.count()\n",
    "    \n",
    "    mean_vector.append(comp_j.reduce(lambda x, y: x + y) / n_count)\n",
    "    \n",
    "    cov_sum = comp_j.map(lambda x: x - mean_vector[j])\\\n",
    "            .map(lambda x: np.multiply(np.reshape(x, (n_feature, 1)), x))\\\n",
    "            .reduce(lambda x, y: x + y)\n",
    "    covariance_matrixes.append(cov_sum / (n_count-1))"
   ]
  },
  {
   "cell_type": "markdown",
   "metadata": {},
   "source": [
    "### 2.E - STEP\n",
    "\n",
    "### Calculate a \"soft\" assignment of each row to each cluster, which is r matrix:\n",
    "\n",
    "### $r_{ij} = \\frac{\\pi_{j} N(x_{i}|\\mu_{j}, \\Sigma_{j})}{\\sum_{c=1}^{k}\\pi_{c} N(x_{i}| \\mu_{c}, \\Sigma_{c})}$\n",
    "\n",
    "### 3.M - STEP\n",
    "\n",
    "### Do an MLE for each Gaussians Cluster\n",
    "\n",
    "### Update for mean_vector\n",
    "\n",
    "### $\\mu_{j} =  \\frac{\\sum_{i=1}^{n} (r_{ij} \\space \\times \\space x_{i})}{\\sum_{i=1}^{n} r_{ij}}$\n",
    "\n",
    "### Update for covariance_matrixes\n",
    "\n",
    "### $\\Sigma_{j} = \\frac{\\sum_{i=1}^{n}{r_{ij} \\space \\times \\space ((x_i-\\mu_{j})^{T} \\cdot (x_i-\\mu_{j}))} }{\\sum_{i=1}^{n} r_{ij}}$\n",
    "\n",
    "### Update for pi list\n",
    "\n",
    "### $\\pi_{j} = \\frac{\\sum_{i=1}^{n} r_{ij}}{n}$\n",
    "\n",
    "### 4.Repeat 2 and 3 max_iter times"
   ]
  },
  {
   "cell_type": "code",
   "execution_count": 270,
   "metadata": {
    "collapsed": true
   },
   "outputs": [
    {
     "name": "stdout",
     "output_type": "stream",
     "text": [
      "0\n",
      "1\n",
      "2\n",
      "3\n",
      "4\n",
      "5\n",
      "6\n",
      "7\n",
      "8\n",
      "9\n",
      "10\n",
      "11\n",
      "12\n",
      "13\n",
      "14\n",
      "15\n",
      "16\n",
      "17\n",
      "18\n",
      "19\n",
      "20\n",
      "21\n",
      "22\n",
      "23\n",
      "24\n",
      "25\n",
      "26\n",
      "27\n",
      "28\n",
      "29\n",
      "30\n",
      "31\n",
      "32\n",
      "33\n",
      "34\n",
      "35\n",
      "36\n",
      "37\n",
      "38\n",
      "39\n"
     ]
    }
   ],
   "source": [
    "max_iter = 100\n",
    "for _iter in range(max_iter):\n",
    "    print(_iter)\n",
    "    ''' --------------------------   E - STEP   -------------------------- '''\n",
    "    # Calculating the r matrix, evrey row contains the probabilities\n",
    "    # for every cluster for this row\n",
    "    \n",
    "    # r'shape (1, n_components) and each row's sum is 1\n",
    "    r = data_raw.map(lambda x: np.array([pi[j] * multivariate_normal.pdf(x, mean_vector[j], covariance_matrixes[j])\\\n",
    "                                     for j in range(n_components)]))\\\n",
    "                .map(lambda x: x / sum(x))\n",
    "\n",
    "    # Calculating the N, the sum of r_ic, when c = j\n",
    "    N = r.reduce(lambda x, y: x + y)\n",
    "\n",
    "#     print(N)\n",
    "    ''' --------------------------   M - STEP   -------------------------- '''\n",
    "    # Initializing the mean_vector\n",
    "    _mean_vector = np.zeros((n_components, n_feature))\n",
    "    # Initiating the covariance_matrixes\n",
    "    _covariance_matrixes = [np.zeros((n_feature, n_feature)) for _k in range(n_components)]\n",
    "    \n",
    "    # r_data_raw's row is (r_i, X_i)\n",
    "    r_data_raw = r.zip(data_raw)\n",
    "    r_data_raw.cache()\n",
    "    for j in range(n_components):\n",
    "        \n",
    "        comp_j = r_data_raw.map(lambda x: x[0][j] * x[1])\n",
    "\n",
    "        _mean_vector[j] = 1 / N[j] * comp_j.reduce(lambda x, y: x + y)\n",
    "\n",
    "        cov_sum = r_data_raw.map(lambda x: (x[0], x[1] - mean_vector[j]))\\\n",
    "                .map(lambda x: x[0][j] * np.multiply(np.reshape(x[1], (n_feature, 1)), x[1]))\\\n",
    "                .reduce(lambda x, y: x + y)\n",
    "        _covariance_matrixes[j] = 1 / N[j] * cov_sum\n",
    "        \n",
    "    # Update for pi list\n",
    "    pi = [N[j]/n_rows for j in range(n_components)]\n",
    "    # Update for mean_vector\n",
    "    mean_vector = _mean_vector\n",
    "    # Update for covariance_matrixes\n",
    "    covariance_matrixes = _covariance_matrixes"
   ]
  },
  {
   "cell_type": "code",
   "execution_count": 272,
   "metadata": {},
   "outputs": [],
   "source": [
    "''' --------------------------   Prediction   -------------------------- '''\n",
    "# predict the probabilities of the 3 clusters and assign cluster with the maximal one\n",
    "y_pred = data_raw.map(lambda x: [multivariate_normal.pdf(x, mean_vector[j], covariance_matrixes[j])\\\n",
    "                             for j in range(n_components)])\\\n",
    "        .map(lambda x: x.index(max(x))).collect()"
   ]
  },
  {
   "cell_type": "code",
   "execution_count": 273,
   "metadata": {},
   "outputs": [
    {
     "data": {
      "image/png": "[encoded data removed]",
      "text/plain": [
       "<Figure size 432x288 with 1 Axes>"
      ]
     },
     "metadata": {
      "needs_background": "light"
     },
     "output_type": "display_data"
    }
   ],
   "source": [
    "# scatter plot, dots colored by class value\n",
    "df = DataFrame(dict(x=X[:,0], y=X[:,1], label=y_pred))\n",
    "cluster_name = set(y_pred)\n",
    "colors = dict(zip(cluster_name, cm.rainbow(np.linspace(0,1,len(cluster_name)))))\n",
    "fig, ax = pyplot.subplots()\n",
    "grouped = df.groupby('label')\n",
    "for key, group in grouped:\n",
    "    group.plot(ax=ax, kind='scatter', x='x', y='y', label=key, color=colors[key].reshape(1,-1))\n",
    "pyplot.title('Data Prediction from {} Centers GMM'.format(n_components))\n",
    "pyplot.show()"
   ]
  },
  {
   "cell_type": "markdown",
   "metadata": {},
   "source": [
    "###  log-likelihood of Gaussian Mixture Model\n",
    "\n",
    "### $l(\\theta)=\\sum_{i=1}^{n}log(\\sum_{c=1}^{k}\\pi_{c} N(x_{i}| \\mu_{c}, \\Sigma_{c}))$\n",
    "\n",
    "### where $\\theta = \\{\\mu_{1},...,\\mu_{k},\\Sigma_{1},...,\\Sigma_{k},\\pi_{1},...,\\pi_{k}\\}$"
   ]
  },
  {
   "cell_type": "code",
   "execution_count": 274,
   "metadata": {},
   "outputs": [],
   "source": [
    "llh = data_raw.map(lambda x: np.array([pi[j] * multivariate_normal.pdf(x, mean_vector[j], covariance_matrixes[j]) \n",
    "                                       for j in range(n_components)]))\\\n",
    "            .map(lambda x: np.log(sum(x)))\\\n",
    "            .reduce(lambda x, y: x + y)"
   ]
  },
  {
   "cell_type": "code",
   "execution_count": 275,
   "metadata": {},
   "outputs": [
    {
     "data": {
      "text/plain": [
       "-1200.258168435339"
      ]
     },
     "execution_count": 275,
     "metadata": {},
     "output_type": "execute_result"
    }
   ],
   "source": [
    "llh"
   ]
  },
  {
   "cell_type": "markdown",
   "metadata": {},
   "source": [
    "Accuracy"
   ]
  },
  {
   "cell_type": "code",
   "execution_count": 276,
   "metadata": {},
   "outputs": [],
   "source": [
    "y_pred = [1 if yi == 0 else 0 if yi== 1 else yi for yi in y_pred]"
   ]
  },
  {
   "cell_type": "code",
   "execution_count": 277,
   "metadata": {},
   "outputs": [
    {
     "data": {
      "text/plain": [
       "0.9533333333333334"
      ]
     },
     "execution_count": 277,
     "metadata": {},
     "output_type": "execute_result"
    }
   ],
   "source": [
    "y_pred_acc = sum(1 for x, y in zip(y, y_pred) if x == y) / float(len(y))\n",
    "y_pred_acc"
   ]
  },
  {
   "cell_type": "markdown",
   "metadata": {},
   "source": [
    "### Use Library pyspark.ml.clustering.GaussianMixture"
   ]
  },
  {
   "cell_type": "code",
   "execution_count": 33,
   "metadata": {},
   "outputs": [],
   "source": [
    "from pyspark.ml.clustering import GaussianMixture\n",
    "from pyspark.ml.linalg import Vectors"
   ]
  },
  {
   "cell_type": "code",
   "execution_count": 34,
   "metadata": {},
   "outputs": [],
   "source": [
    "spark = SparkSession \\\n",
    "    .builder \\\n",
    "    .appName(\"GMM-lib\") \\\n",
    "    .getOrCreate()"
   ]
  },
  {
   "cell_type": "code",
   "execution_count": 240,
   "metadata": {},
   "outputs": [],
   "source": [
    "# loads data\n",
    "data_raw_v = data_raw.map(lambda x: (Vectors.dense(x.tolist()), ))\n",
    "df = spark.createDataFrame(data_raw_v, [\"features\"])"
   ]
  },
  {
   "cell_type": "code",
   "execution_count": 241,
   "metadata": {},
   "outputs": [
    {
     "data": {
      "text/plain": [
       "GaussianMixture_47c7cbc0ebc6"
      ]
     },
     "execution_count": 241,
     "metadata": {},
     "output_type": "execute_result"
    }
   ],
   "source": [
    "gm = GaussianMixture(k=3, tol=0.0001, seed=10)\n",
    "gm.setMaxIter(100)"
   ]
  },
  {
   "cell_type": "code",
   "execution_count": 242,
   "metadata": {},
   "outputs": [],
   "source": [
    "model = gm.fit(df)"
   ]
  },
  {
   "cell_type": "code",
   "execution_count": 243,
   "metadata": {},
   "outputs": [],
   "source": [
    "y_pred_lib = model.transform(df).select('prediction').rdd.flatMap(lambda x: x).collect()"
   ]
  },
  {
   "cell_type": "code",
   "execution_count": 278,
   "metadata": {},
   "outputs": [
    {
     "data": {
      "image/png": "[encoded data removed]",
      "text/plain": [
       "<Figure size 432x288 with 1 Axes>"
      ]
     },
     "metadata": {
      "needs_background": "light"
     },
     "output_type": "display_data"
    }
   ],
   "source": [
    "# scatter plot\n",
    "df = DataFrame(dict(x=X[:,0], y=X[:,1], label=y_pred_lib))\n",
    "cluster_name = set(y_pred)\n",
    "colors = dict(zip(cluster_name, cm.rainbow(np.linspace(0,1,len(cluster_name)))))\n",
    "fig, ax = pyplot.subplots()\n",
    "grouped = df.groupby('label')\n",
    "for key, group in grouped:\n",
    "    group.plot(ax=ax, kind='scatter', x='x', y='y', label=key, color=colors[key].reshape(1,-1))\n",
    "pyplot.title('Data Prediction from {} Centers GMM Lib'.format(n_components))\n",
    "pyplot.show()"
   ]
  },
  {
   "cell_type": "code",
   "execution_count": 279,
   "metadata": {},
   "outputs": [
    {
     "data": {
      "text/plain": [
       "-1200.2380396303138"
      ]
     },
     "execution_count": 279,
     "metadata": {},
     "output_type": "execute_result"
    }
   ],
   "source": [
    "model.summary.logLikelihood"
   ]
  },
  {
   "cell_type": "code",
   "execution_count": 246,
   "metadata": {},
   "outputs": [],
   "source": [
    "y_pred_lib = [1 if yi == 2 else 2 if yi== 1 else yi for yi in y_pred_lib]"
   ]
  },
  {
   "cell_type": "code",
   "execution_count": 247,
   "metadata": {},
   "outputs": [
    {
     "data": {
      "text/plain": [
       "0.95"
      ]
     },
     "execution_count": 247,
     "metadata": {},
     "output_type": "execute_result"
    }
   ],
   "source": [
    "y_pred_lib_acc = sum(1 for x, y in zip(y, y_pred_lib) if x == y) / float(len(y))\n",
    "y_pred_lib_acc"
   ]
  },
  {
   "cell_type": "markdown",
   "metadata": {},
   "source": [
    "### Use Library pyspark.ml.clustering.KMeans¶"
   ]
  },
  {
   "cell_type": "code",
   "execution_count": 122,
   "metadata": {},
   "outputs": [],
   "source": [
    "from pyspark.ml.clustering import KMeans"
   ]
  },
  {
   "cell_type": "code",
   "execution_count": 248,
   "metadata": {},
   "outputs": [],
   "source": [
    "# loads data\n",
    "data_raw_v = data_raw.map(lambda x: (Vectors.dense(x.tolist()), ))\n",
    "df = spark.createDataFrame(data_raw_v, [\"features\"])"
   ]
  },
  {
   "cell_type": "code",
   "execution_count": 249,
   "metadata": {},
   "outputs": [],
   "source": [
    "# Trains a k-means model.\n",
    "kmeans = KMeans().setK(3).setSeed(1)\n",
    "kmeans.setMaxIter(100)\n",
    "model_k = kmeans.fit(df)"
   ]
  },
  {
   "cell_type": "code",
   "execution_count": 250,
   "metadata": {},
   "outputs": [],
   "source": [
    "# Make predictions\n",
    "y_pred_kmeans = model_k.transform(df).select('prediction').rdd.flatMap(lambda x: x).collect()"
   ]
  },
  {
   "cell_type": "code",
   "execution_count": 280,
   "metadata": {},
   "outputs": [
    {
     "data": {
      "image/png": "[encoded data removed]",
      "text/plain": [
       "<Figure size 432x288 with 1 Axes>"
      ]
     },
     "metadata": {
      "needs_background": "light"
     },
     "output_type": "display_data"
    }
   ],
   "source": [
    "# scatter plot\n",
    "df = DataFrame(dict(x=X[:,0], y=X[:,1], label=y_pred_kmeans))\n",
    "cluster_name = set(y_pred_kmeans)\n",
    "colors = dict(zip(cluster_name, cm.rainbow(np.linspace(0,1,len(cluster_name)))))\n",
    "fig, ax = pyplot.subplots()\n",
    "grouped = df.groupby('label')\n",
    "for key, group in grouped:\n",
    "    group.plot(ax=ax, kind='scatter', x='x', y='y', label=key, color=colors[key].reshape(1,-1))\n",
    "pyplot.title('Data Prediction from {} Centers K-means'.format(n_components))\n",
    "pyplot.show()"
   ]
  },
  {
   "cell_type": "code",
   "execution_count": 252,
   "metadata": {},
   "outputs": [],
   "source": [
    "y_pred_kmeans = [1 if yi == 0 else 0 if yi== 1 else yi for yi in y_pred_kmeans]"
   ]
  },
  {
   "cell_type": "code",
   "execution_count": 253,
   "metadata": {},
   "outputs": [
    {
     "data": {
      "text/plain": [
       "0.9433333333333334"
      ]
     },
     "execution_count": 253,
     "metadata": {},
     "output_type": "execute_result"
    }
   ],
   "source": [
    "y_pred_kmeans_acc = sum(1 for x, y in zip(y, y_pred_kmeans) if x == y) / float(len(y))\n",
    "y_pred_kmeans_acc"
   ]
  },
  {
   "cell_type": "code",
   "execution_count": null,
   "metadata": {},
   "outputs": [],
   "source": []
  }
 ],
 "metadata": {
  "kernelspec": {
   "display_name": "Python 3",
   "language": "python",
   "name": "python3"
  },
  "language_info": {
   "codemirror_mode": {
    "name": "ipython",
    "version": 3
   },
   "file_extension": ".py",
   "mimetype": "text/x-python",
   "name": "python",
   "nbconvert_exporter": "python",
   "pygments_lexer": "ipython3",
   "version": "3.7.2"
  }
 },
 "nbformat": 4,
 "nbformat_minor": 4
}
